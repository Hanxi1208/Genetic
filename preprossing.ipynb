{
 "cells": [
  {
   "cell_type": "code",
   "execution_count": 1,
   "metadata": {},
   "outputs": [
    {
     "ename": "NameError",
     "evalue": "name 'np' is not defined",
     "output_type": "error",
     "traceback": [
      "\u001b[1;31m---------------------------------------------------------------------------\u001b[0m",
      "\u001b[1;31mNameError\u001b[0m                                 Traceback (most recent call last)",
      "\u001b[1;32md:\\Genetis\\preprossing.ipynb Cell 1\u001b[0m line \u001b[0;36m1\n\u001b[1;32m----> <a href='vscode-notebook-cell:/d%3A/Genetis/preprossing.ipynb#W0sZmlsZQ%3D%3D?line=0'>1</a>\u001b[0m theta_x1 \u001b[39m=\u001b[39m np\u001b[39m.\u001b[39mcos(df[:, \u001b[39m2\u001b[39m])\n\u001b[0;32m      <a href='vscode-notebook-cell:/d%3A/Genetis/preprossing.ipynb#W0sZmlsZQ%3D%3D?line=1'>2</a>\u001b[0m theta_x1 \u001b[39m=\u001b[39m theta_x1\u001b[39m.\u001b[39mreshape(\u001b[39m-\u001b[39m\u001b[39m1\u001b[39m, \u001b[39m1\u001b[39m)\n\u001b[0;32m      <a href='vscode-notebook-cell:/d%3A/Genetis/preprossing.ipynb#W0sZmlsZQ%3D%3D?line=2'>3</a>\u001b[0m theta_y1 \u001b[39m=\u001b[39m np\u001b[39m.\u001b[39msin(df[:, \u001b[39m2\u001b[39m])\n",
      "\u001b[1;31mNameError\u001b[0m: name 'np' is not defined"
     ]
    }
   ],
   "source": [
    "    theta_x1 = np.cos(df[:, 2])\n",
    "    theta_x1 = theta_x1.reshape(-1, 1)\n",
    "    theta_y1 = np.sin(df[:, 2])\n",
    "    theta_y1 = theta_y1.reshape(-1, 1)\n",
    "    theta_x2 = np.cos(df[:, 5])\n",
    "    theta_x2 = theta_x2.reshape(-1, 1)\n",
    "    theta_y2 = np.sin(df[:, 5])\n",
    "    theta_y2 = theta_y2.reshape(-1, 1)\n",
    "\n",
    "    columns_to_delete = [2, 5] \n",
    "    df = np.delete(df, columns_to_delete, axis=1)\n",
    "\n",
    "    df = np.concatenate((df, theta_x1), axis=1)\n",
    "    df = np.concatenate((df, theta_y1), axis=1)\n",
    "    df = np.concatenate((df, theta_x2), axis=1)\n",
    "    df = np.concatenate((df, theta_y2), axis=1)\n",
    "\n",
    "    X = df[:, np.arange(df.shape[1]) != 5]\n",
    "    y = df[:, 5]"
   ]
  },
  {
   "cell_type": "code",
   "execution_count": 66,
   "metadata": {},
   "outputs": [
    {
     "data": {
      "text/html": [
       "<div>\n",
       "<style scoped>\n",
       "    .dataframe tbody tr th:only-of-type {\n",
       "        vertical-align: middle;\n",
       "    }\n",
       "\n",
       "    .dataframe tbody tr th {\n",
       "        vertical-align: top;\n",
       "    }\n",
       "\n",
       "    .dataframe thead th {\n",
       "        text-align: right;\n",
       "    }\n",
       "</style>\n",
       "<table border=\"1\" class=\"dataframe\">\n",
       "  <thead>\n",
       "    <tr style=\"text-align: right;\">\n",
       "      <th></th>\n",
       "      <th>InnerRadius</th>\n",
       "      <th>Length</th>\n",
       "      <th>OpeningAngle</th>\n",
       "      <th>InnerRadius2</th>\n",
       "      <th>Length2</th>\n",
       "      <th>OpeningAngle2</th>\n",
       "      <th>Generation</th>\n",
       "      <th>Fitness</th>\n",
       "    </tr>\n",
       "  </thead>\n",
       "  <tbody>\n",
       "    <tr>\n",
       "      <th>0</th>\n",
       "      <td>3.90874</td>\n",
       "      <td>61.5669</td>\n",
       "      <td>0.052689</td>\n",
       "      <td>2.016570</td>\n",
       "      <td>139.4330</td>\n",
       "      <td>0.012688</td>\n",
       "      <td>0</td>\n",
       "      <td>4.07216</td>\n",
       "    </tr>\n",
       "    <tr>\n",
       "      <th>1</th>\n",
       "      <td>1.99530</td>\n",
       "      <td>72.1412</td>\n",
       "      <td>0.027506</td>\n",
       "      <td>6.259420</td>\n",
       "      <td>134.1270</td>\n",
       "      <td>0.004807</td>\n",
       "      <td>0</td>\n",
       "      <td>4.18268</td>\n",
       "    </tr>\n",
       "    <tr>\n",
       "      <th>2</th>\n",
       "      <td>2.09463</td>\n",
       "      <td>132.2190</td>\n",
       "      <td>0.014867</td>\n",
       "      <td>0.134743</td>\n",
       "      <td>134.8410</td>\n",
       "      <td>0.016945</td>\n",
       "      <td>0</td>\n",
       "      <td>3.72230</td>\n",
       "    </tr>\n",
       "    <tr>\n",
       "      <th>3</th>\n",
       "      <td>3.30559</td>\n",
       "      <td>100.8360</td>\n",
       "      <td>0.037702</td>\n",
       "      <td>0.886785</td>\n",
       "      <td>60.7252</td>\n",
       "      <td>0.048279</td>\n",
       "      <td>0</td>\n",
       "      <td>4.45808</td>\n",
       "    </tr>\n",
       "    <tr>\n",
       "      <th>4</th>\n",
       "      <td>4.60422</td>\n",
       "      <td>114.9840</td>\n",
       "      <td>0.023466</td>\n",
       "      <td>2.387690</td>\n",
       "      <td>105.4090</td>\n",
       "      <td>0.019864</td>\n",
       "      <td>0</td>\n",
       "      <td>3.94431</td>\n",
       "    </tr>\n",
       "    <tr>\n",
       "      <th>...</th>\n",
       "      <td>...</td>\n",
       "      <td>...</td>\n",
       "      <td>...</td>\n",
       "      <td>...</td>\n",
       "      <td>...</td>\n",
       "      <td>...</td>\n",
       "      <td>...</td>\n",
       "      <td>...</td>\n",
       "    </tr>\n",
       "    <tr>\n",
       "      <th>1595</th>\n",
       "      <td>4.28358</td>\n",
       "      <td>60.7801</td>\n",
       "      <td>0.051802</td>\n",
       "      <td>0.864755</td>\n",
       "      <td>125.4670</td>\n",
       "      <td>0.011695</td>\n",
       "      <td>31</td>\n",
       "      <td>4.05299</td>\n",
       "    </tr>\n",
       "    <tr>\n",
       "      <th>1596</th>\n",
       "      <td>0.26626</td>\n",
       "      <td>106.3190</td>\n",
       "      <td>0.057043</td>\n",
       "      <td>0.189079</td>\n",
       "      <td>110.6910</td>\n",
       "      <td>0.038525</td>\n",
       "      <td>31</td>\n",
       "      <td>4.20008</td>\n",
       "    </tr>\n",
       "    <tr>\n",
       "      <th>1597</th>\n",
       "      <td>2.24934</td>\n",
       "      <td>101.7440</td>\n",
       "      <td>0.028651</td>\n",
       "      <td>2.080260</td>\n",
       "      <td>110.8800</td>\n",
       "      <td>0.043964</td>\n",
       "      <td>31</td>\n",
       "      <td>4.01570</td>\n",
       "    </tr>\n",
       "    <tr>\n",
       "      <th>1598</th>\n",
       "      <td>2.12298</td>\n",
       "      <td>84.1852</td>\n",
       "      <td>0.002679</td>\n",
       "      <td>2.080710</td>\n",
       "      <td>111.5570</td>\n",
       "      <td>0.043115</td>\n",
       "      <td>31</td>\n",
       "      <td>4.15416</td>\n",
       "    </tr>\n",
       "    <tr>\n",
       "      <th>1599</th>\n",
       "      <td>2.51934</td>\n",
       "      <td>107.2380</td>\n",
       "      <td>0.007103</td>\n",
       "      <td>0.702851</td>\n",
       "      <td>41.7374</td>\n",
       "      <td>0.160602</td>\n",
       "      <td>31</td>\n",
       "      <td>4.63660</td>\n",
       "    </tr>\n",
       "  </tbody>\n",
       "</table>\n",
       "<p>1600 rows × 8 columns</p>\n",
       "</div>"
      ],
      "text/plain": [
       "      InnerRadius    Length  OpeningAngle  InnerRadius2   Length2  \\\n",
       "0         3.90874   61.5669      0.052689      2.016570  139.4330   \n",
       "1         1.99530   72.1412      0.027506      6.259420  134.1270   \n",
       "2         2.09463  132.2190      0.014867      0.134743  134.8410   \n",
       "3         3.30559  100.8360      0.037702      0.886785   60.7252   \n",
       "4         4.60422  114.9840      0.023466      2.387690  105.4090   \n",
       "...           ...       ...           ...           ...       ...   \n",
       "1595      4.28358   60.7801      0.051802      0.864755  125.4670   \n",
       "1596      0.26626  106.3190      0.057043      0.189079  110.6910   \n",
       "1597      2.24934  101.7440      0.028651      2.080260  110.8800   \n",
       "1598      2.12298   84.1852      0.002679      2.080710  111.5570   \n",
       "1599      2.51934  107.2380      0.007103      0.702851   41.7374   \n",
       "\n",
       "      OpeningAngle2  Generation  Fitness  \n",
       "0          0.012688           0  4.07216  \n",
       "1          0.004807           0  4.18268  \n",
       "2          0.016945           0  3.72230  \n",
       "3          0.048279           0  4.45808  \n",
       "4          0.019864           0  3.94431  \n",
       "...             ...         ...      ...  \n",
       "1595       0.011695          31  4.05299  \n",
       "1596       0.038525          31  4.20008  \n",
       "1597       0.043964          31  4.01570  \n",
       "1598       0.043115          31  4.15416  \n",
       "1599       0.160602          31  4.63660  \n",
       "\n",
       "[1600 rows x 8 columns]"
      ]
     },
     "execution_count": 66,
     "metadata": {},
     "output_type": "execute_result"
    }
   ],
   "source": [
    "import numpy as np\n",
    "import pandas as pd\n",
    "df = pd.read_csv('testpara.csv')\n",
    "df"
   ]
  },
  {
   "cell_type": "code",
   "execution_count": 67,
   "metadata": {},
   "outputs": [
    {
     "data": {
      "text/plain": [
       "array([[3.90874e+00, 6.15669e+01, 5.26890e-02, ..., 1.26880e-02,\n",
       "        0.00000e+00, 4.07216e+00],\n",
       "       [1.99530e+00, 7.21412e+01, 2.75060e-02, ..., 4.80700e-03,\n",
       "        0.00000e+00, 4.18268e+00],\n",
       "       [2.09463e+00, 1.32219e+02, 1.48670e-02, ..., 1.69450e-02,\n",
       "        0.00000e+00, 3.72230e+00],\n",
       "       ...,\n",
       "       [2.24934e+00, 1.01744e+02, 2.86510e-02, ..., 4.39640e-02,\n",
       "        3.10000e+01, 4.01570e+00],\n",
       "       [2.12298e+00, 8.41852e+01, 2.67900e-03, ..., 4.31150e-02,\n",
       "        3.10000e+01, 4.15416e+00],\n",
       "       [2.51934e+00, 1.07238e+02, 7.10300e-03, ..., 1.60602e-01,\n",
       "        3.10000e+01, 4.63660e+00]])"
      ]
     },
     "execution_count": 67,
     "metadata": {},
     "output_type": "execute_result"
    }
   ],
   "source": [
    "df = df.to_numpy()\n",
    "df"
   ]
  },
  {
   "cell_type": "code",
   "execution_count": 57,
   "metadata": {},
   "outputs": [
    {
     "data": {
      "text/plain": [
       "array([ 0.,  0.,  0., ..., 31., 31., 31.])"
      ]
     },
     "execution_count": 57,
     "metadata": {},
     "output_type": "execute_result"
    }
   ],
   "source": [
    "df[:, 6]"
   ]
  },
  {
   "cell_type": "code",
   "execution_count": 68,
   "metadata": {},
   "outputs": [],
   "source": [
    "df = np.delete(df, 6, axis=1)"
   ]
  },
  {
   "cell_type": "code",
   "execution_count": 69,
   "metadata": {},
   "outputs": [],
   "source": [
    "X = df[:, np.arange(df.shape[1]) != 6]\n",
    "y = df[:, 6]"
   ]
  },
  {
   "cell_type": "code",
   "execution_count": 60,
   "metadata": {},
   "outputs": [
    {
     "ename": "NameError",
     "evalue": "name 'InnerRadius' is not defined",
     "output_type": "error",
     "traceback": [
      "\u001b[1;31m---------------------------------------------------------------------------\u001b[0m",
      "\u001b[1;31mNameError\u001b[0m                                 Traceback (most recent call last)",
      "\u001b[1;32md:\\Genetis\\preprossing.ipynb Cell 7\u001b[0m line \u001b[0;36m1\n\u001b[1;32m----> <a href='vscode-notebook-cell:/d%3A/Genetis/preprossing.ipynb#X23sZmlsZQ%3D%3D?line=0'>1</a>\u001b[0m \u001b[39m0\u001b[39m\u001b[39m-\u001b[39mInnerRadius\t\n\u001b[0;32m      <a href='vscode-notebook-cell:/d%3A/Genetis/preprossing.ipynb#X23sZmlsZQ%3D%3D?line=1'>2</a>\u001b[0m \u001b[39m1\u001b[39m\u001b[39m-\u001b[39mLength\t\n\u001b[0;32m      <a href='vscode-notebook-cell:/d%3A/Genetis/preprossing.ipynb#X23sZmlsZQ%3D%3D?line=2'>3</a>\u001b[0m \u001b[39m2\u001b[39m\u001b[39m-\u001b[39mOpeningAngle\t\n",
      "\u001b[1;31mNameError\u001b[0m: name 'InnerRadius' is not defined"
     ]
    }
   ],
   "source": [
    "0-InnerRadius\t\n",
    "1-Length\t\n",
    "2-OpeningAngle\t\n",
    "3-InnerRadius2\t\n",
    "4-Length2\t\n",
    "5-OpeningAngle2\t\n",
    "\n",
    "y-Fitness"
   ]
  },
  {
   "cell_type": "code",
   "execution_count": 70,
   "metadata": {},
   "outputs": [
    {
     "data": {
      "text/plain": [
       "array([139.433 , 134.127 , 134.841 , ..., 110.88  , 111.557 ,  41.7374])"
      ]
     },
     "execution_count": 70,
     "metadata": {},
     "output_type": "execute_result"
    }
   ],
   "source": [
    "X_length2 = X[:, 4] \n",
    "X_length2"
   ]
  },
  {
   "cell_type": "code",
   "execution_count": 71,
   "metadata": {},
   "outputs": [
    {
     "name": "stdout",
     "output_type": "stream",
     "text": [
      "Original Array:\n",
      "[[3.90874e+00 6.15669e+01 5.26890e-02 2.01657e+00 1.39433e+02 1.26880e-02]\n",
      " [1.99530e+00 7.21412e+01 2.75060e-02 6.25942e+00 1.34127e+02 4.80700e-03]\n",
      " [2.09463e+00 1.32219e+02 1.48670e-02 1.34743e-01 1.34841e+02 1.69450e-02]\n",
      " ...\n",
      " [2.24934e+00 1.01744e+02 2.86510e-02 2.08026e+00 1.10880e+02 4.39640e-02]\n",
      " [2.12298e+00 8.41852e+01 2.67900e-03 2.08071e+00 1.11557e+02 4.31150e-02]\n",
      " [2.51934e+00 1.07238e+02 7.10300e-03 7.02851e-01 4.17374e+01 1.60602e-01]]\n",
      "\n",
      "Array after removing the fourth column:\n",
      "[[3.90874e+00 6.15669e+01 5.26890e-02 2.01657e+00 1.26880e-02]\n",
      " [1.99530e+00 7.21412e+01 2.75060e-02 6.25942e+00 4.80700e-03]\n",
      " [2.09463e+00 1.32219e+02 1.48670e-02 1.34743e-01 1.69450e-02]\n",
      " ...\n",
      " [2.24934e+00 1.01744e+02 2.86510e-02 2.08026e+00 4.39640e-02]\n",
      " [2.12298e+00 8.41852e+01 2.67900e-03 2.08071e+00 4.31150e-02]\n",
      " [2.51934e+00 1.07238e+02 7.10300e-03 7.02851e-01 1.60602e-01]]\n"
     ]
    }
   ],
   "source": [
    "\n",
    "print(\"Original Array:\")\n",
    "print(X)\n",
    "\n",
    "X = np.delete(X, 4, axis=1)\n",
    "print(\"\\nArray after removing the fourth column:\")\n",
    "print(X)\n",
    "\n"
   ]
  },
  {
   "cell_type": "code",
   "execution_count": 72,
   "metadata": {},
   "outputs": [],
   "source": [
    "def positional_encoding(X,L):\n",
    "    \n",
    "    min = np.min(X)\n",
    "    max = np.max(X)\n",
    "    x = 2 * ((X-min)/(max-min)) - 1\n",
    "    temp = []\n",
    "    for l in range(L):\n",
    "        value = 2 ** l\n",
    "        sinx = np.sin(value * np.pi * x)\n",
    "        cosx = np.cos(value * np.pi * x)\n",
    "        temp.extend([sinx, cosx])\n",
    "    temp = np.array(temp)\n",
    "    temp = temp.T\n",
    "    return temp"
   ]
  },
  {
   "cell_type": "code",
   "execution_count": 75,
   "metadata": {},
   "outputs": [],
   "source": [
    "length2_pe = positional_encoding(X_length2, 3)\n"
   ]
  },
  {
   "cell_type": "code",
   "execution_count": null,
   "metadata": {},
   "outputs": [],
   "source": []
  },
  {
   "cell_type": "code",
   "execution_count": 74,
   "metadata": {},
   "outputs": [
    {
     "name": "stdout",
     "output_type": "stream",
     "text": [
      "Array 1:\n",
      "[[1 2 3]\n",
      " [4 5 6]]\n",
      "\n",
      "Array 2:\n",
      "[[ 7  8]\n",
      " [ 9 10]]\n",
      "\n",
      "Array after concatenation:\n",
      "[[ 1  2  3  7  8]\n",
      " [ 4  5  6  9 10]]\n"
     ]
    }
   ],
   "source": [
    "import numpy as np\n",
    "\n",
    "# 创建两个示例二维数组\n",
    "array1 = np.array([[1, 2, 3],\n",
    "                   [4, 5, 6]])\n",
    "\n",
    "array2 = np.array([[7, 8],\n",
    "                   [9, 10]])\n",
    "\n",
    "# 将数组2连接到数组1的右侧\n",
    "result_array = np.concatenate((array1, array2), axis=1)\n",
    "\n",
    "print(\"Array 1:\")\n",
    "print(array1)\n",
    "print(\"\\nArray 2:\")\n",
    "print(array2)\n",
    "print(\"\\nArray after concatenation:\")\n",
    "print(result_array)\n"
   ]
  },
  {
   "cell_type": "code",
   "execution_count": null,
   "metadata": {},
   "outputs": [],
   "source": []
  },
  {
   "cell_type": "code",
   "execution_count": null,
   "metadata": {},
   "outputs": [],
   "source": []
  },
  {
   "cell_type": "code",
   "execution_count": 52,
   "metadata": {},
   "outputs": [
    {
     "name": "stdout",
     "output_type": "stream",
     "text": [
      "temp [array([-1.2246468e-16,  0.0000000e+00,  1.2246468e-16]), array([0.1, 0.1, 0.1]), array([ 2.4492936e-16,  0.0000000e+00, -2.4492936e-16]), array([0.1, 0.1, 0.1]), array([ 4.8985872e-16,  0.0000000e+00, -4.8985872e-16]), array([0.1, 0.1, 0.1])]\n",
      "temp_T [[-1.2246468e-16  1.0000000e-01  2.4492936e-16  1.0000000e-01\n",
      "   4.8985872e-16  1.0000000e-01]\n",
      " [ 0.0000000e+00  1.0000000e-01  0.0000000e+00  1.0000000e-01\n",
      "   0.0000000e+00  1.0000000e-01]\n",
      " [ 1.2246468e-16  1.0000000e-01 -2.4492936e-16  1.0000000e-01\n",
      "  -4.8985872e-16  1.0000000e-01]]\n"
     ]
    }
   ],
   "source": [
    "X = [-1,0,1]\n",
    "min = np.min(X)\n",
    "max = np.max(X)\n",
    "# print(min)\n",
    "\n",
    "x = 2*((X-min)/(max-min))-1\n",
    "temp = []\n",
    "for l in range(3):\n",
    "    value = 2 ** l\n",
    "    # print(value)\n",
    "    a = np.sin(value*np.pi*x)\n",
    "    b = a+0.1\n",
    "    temp.extend([a,b])\n",
    "    \n",
    "temp\n",
    "print(\"temp\",temp)\n",
    "print(\"temp_T\",np.array(temp).T)\n",
    "    # sinx = np.sin(value * np.pi * x)\n",
    "    # cosx = np.cos(value * np.pi * x)\n",
    "    # temp.extend([sinx, cosx])"
   ]
  },
  {
   "cell_type": "code",
   "execution_count": null,
   "metadata": {},
   "outputs": [],
   "source": []
  },
  {
   "cell_type": "code",
   "execution_count": null,
   "metadata": {},
   "outputs": [],
   "source": []
  },
  {
   "cell_type": "code",
   "execution_count": 7,
   "metadata": {},
   "outputs": [],
   "source": [
    "theta_x1 = np.cos(df[:, 2])\n",
    "theta_x1 = theta_x1.reshape(-1, 1)\n",
    "theta_y1 = np.sin(df[:, 2])\n",
    "theta_y1 = theta_y1.reshape(-1, 1)\n",
    "theta_x2 = np.cos(df[:, 5])\n",
    "theta_x2 = theta_x2.reshape(-1, 1)\n",
    "theta_y2 = np.sin(df[:, 5])\n",
    "theta_y2 = theta_y2.reshape(-1, 1)"
   ]
  },
  {
   "cell_type": "code",
   "execution_count": 8,
   "metadata": {},
   "outputs": [
    {
     "data": {
      "text/plain": [
       "array([[0.99861226],\n",
       "       [0.99962173],\n",
       "       [0.99988949],\n",
       "       ...,\n",
       "       [0.99958959],\n",
       "       [0.99999641],\n",
       "       [0.99997477]])"
      ]
     },
     "execution_count": 8,
     "metadata": {},
     "output_type": "execute_result"
    }
   ],
   "source": [
    "theta_x1"
   ]
  },
  {
   "cell_type": "code",
   "execution_count": 9,
   "metadata": {},
   "outputs": [],
   "source": [
    "# delete columns(OpeningAngle, OpeningAngle2)\n",
    "columns_to_delete = [2, 5] \n",
    "df = np.delete(df, columns_to_delete, axis=1)"
   ]
  },
  {
   "cell_type": "code",
   "execution_count": 10,
   "metadata": {},
   "outputs": [
    {
     "data": {
      "text/plain": [
       "array([[3.90874e+00, 6.15669e+01, 2.01657e+00, 1.39433e+02, 0.00000e+00,\n",
       "        4.07216e+00],\n",
       "       [1.99530e+00, 7.21412e+01, 6.25942e+00, 1.34127e+02, 0.00000e+00,\n",
       "        4.18268e+00],\n",
       "       [2.09463e+00, 1.32219e+02, 1.34743e-01, 1.34841e+02, 0.00000e+00,\n",
       "        3.72230e+00],\n",
       "       ...,\n",
       "       [2.24934e+00, 1.01744e+02, 2.08026e+00, 1.10880e+02, 3.10000e+01,\n",
       "        4.01570e+00],\n",
       "       [2.12298e+00, 8.41852e+01, 2.08071e+00, 1.11557e+02, 3.10000e+01,\n",
       "        4.15416e+00],\n",
       "       [2.51934e+00, 1.07238e+02, 7.02851e-01, 4.17374e+01, 3.10000e+01,\n",
       "        4.63660e+00]])"
      ]
     },
     "execution_count": 10,
     "metadata": {},
     "output_type": "execute_result"
    }
   ],
   "source": [
    "df"
   ]
  },
  {
   "cell_type": "code",
   "execution_count": 11,
   "metadata": {},
   "outputs": [],
   "source": [
    "df = np.concatenate((df, theta_x1), axis=1)\n",
    "df = np.concatenate((df, theta_y1), axis=1)\n",
    "df = np.concatenate((df, theta_x2), axis=1)\n",
    "df = np.concatenate((df, theta_y2), axis=1)"
   ]
  },
  {
   "cell_type": "code",
   "execution_count": 12,
   "metadata": {},
   "outputs": [
    {
     "data": {
      "text/plain": [
       "array([[3.90874000e+00, 6.15669000e+01, 2.01657000e+00, ...,\n",
       "        5.26646248e-02, 9.99919508e-01, 1.26876596e-02],\n",
       "       [1.99530000e+00, 7.21412000e+01, 6.25942000e+00, ...,\n",
       "        2.75025317e-02, 9.99988446e-01, 4.80698149e-03],\n",
       "       [2.09463000e+00, 1.32219000e+02, 1.34743000e-01, ...,\n",
       "        1.48664523e-02, 9.99856437e-01, 1.69441891e-02],\n",
       "       ...,\n",
       "       [2.24934000e+00, 1.01744000e+02, 2.08026000e+00, ...,\n",
       "        2.86470803e-02, 9.99033739e-01, 4.39498389e-02],\n",
       "       [2.12298000e+00, 8.41852000e+01, 2.08071000e+00, ...,\n",
       "        2.67899680e-03, 9.99070692e-01, 4.31016435e-02],\n",
       "       [2.51934000e+00, 1.07238000e+02, 7.02851000e-01, ...,\n",
       "        7.10294027e-03, 9.87131195e-01, 1.59912489e-01]])"
      ]
     },
     "execution_count": 12,
     "metadata": {},
     "output_type": "execute_result"
    }
   ],
   "source": [
    "df"
   ]
  },
  {
   "cell_type": "code",
   "execution_count": 13,
   "metadata": {},
   "outputs": [
    {
     "data": {
      "text/plain": [
       "array([4.07216, 4.18268, 3.7223 , ..., 4.0157 , 4.15416, 4.6366 ])"
      ]
     },
     "execution_count": 13,
     "metadata": {},
     "output_type": "execute_result"
    }
   ],
   "source": [
    "y = df[:, 5]\n",
    "y"
   ]
  },
  {
   "cell_type": "code",
   "execution_count": 14,
   "metadata": {},
   "outputs": [
    {
     "data": {
      "text/plain": [
       "array([[3.90874000e+00, 6.15669000e+01, 2.01657000e+00, ...,\n",
       "        5.26646248e-02, 9.99919508e-01, 1.26876596e-02],\n",
       "       [1.99530000e+00, 7.21412000e+01, 6.25942000e+00, ...,\n",
       "        2.75025317e-02, 9.99988446e-01, 4.80698149e-03],\n",
       "       [2.09463000e+00, 1.32219000e+02, 1.34743000e-01, ...,\n",
       "        1.48664523e-02, 9.99856437e-01, 1.69441891e-02],\n",
       "       ...,\n",
       "       [2.24934000e+00, 1.01744000e+02, 2.08026000e+00, ...,\n",
       "        2.86470803e-02, 9.99033739e-01, 4.39498389e-02],\n",
       "       [2.12298000e+00, 8.41852000e+01, 2.08071000e+00, ...,\n",
       "        2.67899680e-03, 9.99070692e-01, 4.31016435e-02],\n",
       "       [2.51934000e+00, 1.07238000e+02, 7.02851000e-01, ...,\n",
       "        7.10294027e-03, 9.87131195e-01, 1.59912489e-01]])"
      ]
     },
     "execution_count": 14,
     "metadata": {},
     "output_type": "execute_result"
    }
   ],
   "source": [
    "X = df[:, np.arange(df.shape[1]) != 5]\n",
    "X"
   ]
  },
  {
   "cell_type": "code",
   "execution_count": 15,
   "metadata": {},
   "outputs": [
    {
     "data": {
      "text/plain": [
       "(1600, 9)"
      ]
     },
     "execution_count": 15,
     "metadata": {},
     "output_type": "execute_result"
    }
   ],
   "source": [
    "X.shape"
   ]
  },
  {
   "cell_type": "code",
   "execution_count": 18,
   "metadata": {},
   "outputs": [
    {
     "name": "stdout",
     "output_type": "stream",
     "text": [
      "[[3.90874000e+00 6.15669000e+01 2.01657000e+00 1.39433000e+02\n",
      "  0.00000000e+00 9.98612256e-01 5.26646248e-02 9.99919508e-01\n",
      "  1.26876596e-02]]\n"
     ]
    }
   ],
   "source": [
    "np.set_printoptions(threshold=np.inf)\n",
    "print(X[:1])"
   ]
  },
  {
   "cell_type": "code",
   "execution_count": null,
   "metadata": {},
   "outputs": [],
   "source": []
  }
 ],
 "metadata": {
  "kernelspec": {
   "display_name": "genetis",
   "language": "python",
   "name": "python3"
  },
  "language_info": {
   "codemirror_mode": {
    "name": "ipython",
    "version": 3
   },
   "file_extension": ".py",
   "mimetype": "text/x-python",
   "name": "python",
   "nbconvert_exporter": "python",
   "pygments_lexer": "ipython3",
   "version": "3.9.18"
  }
 },
 "nbformat": 4,
 "nbformat_minor": 2
}
